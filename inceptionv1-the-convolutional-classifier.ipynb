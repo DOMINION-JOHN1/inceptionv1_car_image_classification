{
 "cells": [
  {
   "cell_type": "markdown",
   "id": "06435cb4",
   "metadata": {
    "papermill": {
     "duration": 0.003962,
     "end_time": "2023-10-05T13:07:39.654505",
     "exception": false,
     "start_time": "2023-10-05T13:07:39.650543",
     "status": "completed"
    },
    "tags": []
   },
   "source": [
    "**This notebook is an exercise in the [Computer Vision](https://www.kaggle.com/learn/computer-vision) course.  You can reference the tutorial at [this link](https://www.kaggle.com/ryanholbrook/the-convolutional-classifier).**\n",
    "\n",
    "---\n"
   ]
  },
  {
   "cell_type": "markdown",
   "id": "4dbbdf24",
   "metadata": {
    "papermill": {
     "duration": 0.003233,
     "end_time": "2023-10-05T13:07:39.661279",
     "exception": false,
     "start_time": "2023-10-05T13:07:39.658046",
     "status": "completed"
    },
    "tags": []
   },
   "source": [
    "<blockquote style=\"margin-right:auto; margin-left:auto; background-color: #ebf9ff; padding: 1em; margin:24px;\">\n",
    "    <strong>Accelerate Training with a Kaggle GPU!</strong><br>\n",
    "Did you know Kaggle offers free time with a GPU accelerator? You can speed up training neural networks in this course by switching to <strong>GPU</strong> in the <em>Accelerator</em> option on the right. (It may already be turned on.) Two things to be aware of:\n",
    "<ul>\n",
    "<li>Changing the <em>Accelerator</em> option will cause the notebook session to restart. You'll need to rerun any setup code.\n",
    "<li>You can have only one GPU session at a time, so be sure to shut the notebook down after you've finished the exercise.\n",
    "</ul>\n",
    "</blockquote>"
   ]
  },
  {
   "cell_type": "markdown",
   "id": "5edd4980",
   "metadata": {
    "papermill": {
     "duration": 0.003139,
     "end_time": "2023-10-05T13:07:39.667909",
     "exception": false,
     "start_time": "2023-10-05T13:07:39.664770",
     "status": "completed"
    },
    "tags": []
   },
   "source": [
    "# Introduction #\n",
    "\n",
    "In the tutorial, we saw how to build an image classifier by attaching a head of dense layers to a pretrained base. The base we used was from a model called **VGG16**. We saw that the VGG16 architecture was prone to overfitting this dataset. Over this course, you'll learn a number of ways you can improve upon this initial attempt.\n",
    "\n",
    "The first way you'll see is to use a base more appropriate to the dataset. The base this model comes from is called **InceptionV1** (also known as GoogLeNet). InceptionV1 was one of the early winners of the ImageNet competition. One of its successors, InceptionV4, is among the state of the art today.\n",
    "\n",
    "To get started, run the code cell below to set everything up."
   ]
  },
  {
   "cell_type": "code",
   "execution_count": 1,
   "id": "9b7b8e04",
   "metadata": {
    "execution": {
     "iopub.execute_input": "2023-10-05T13:07:39.676324Z",
     "iopub.status.busy": "2023-10-05T13:07:39.676015Z",
     "iopub.status.idle": "2023-10-05T13:07:59.347911Z",
     "shell.execute_reply": "2023-10-05T13:07:59.346890Z"
    },
    "lines_to_next_cell": 2,
    "papermill": {
     "duration": 19.678879,
     "end_time": "2023-10-05T13:07:59.350033",
     "exception": false,
     "start_time": "2023-10-05T13:07:39.671154",
     "status": "completed"
    },
    "tags": []
   },
   "outputs": [
    {
     "name": "stderr",
     "output_type": "stream",
     "text": [
      "/opt/conda/lib/python3.10/site-packages/scipy/__init__.py:146: UserWarning: A NumPy version >=1.16.5 and <1.23.0 is required for this version of SciPy (detected version 1.23.5\n",
      "  warnings.warn(f\"A NumPy version >={np_minversion} and <{np_maxversion}\"\n"
     ]
    },
    {
     "name": "stdout",
     "output_type": "stream",
     "text": [
      "Found 5117 files belonging to 2 classes.\n",
      "Found 5051 files belonging to 2 classes.\n"
     ]
    }
   ],
   "source": [
    "# Setup feedback system\n",
    "from learntools.core import binder\n",
    "binder.bind(globals())\n",
    "from learntools.computer_vision.ex1 import *\n",
    "\n",
    "# Imports\n",
    "import os, warnings\n",
    "import matplotlib.pyplot as plt\n",
    "from matplotlib import gridspec\n",
    "\n",
    "import numpy as np\n",
    "import tensorflow as tf\n",
    "from tensorflow.keras.preprocessing import image_dataset_from_directory\n",
    "\n",
    "# Reproducability\n",
    "def set_seed(seed=31415):\n",
    "    np.random.seed(seed)\n",
    "    tf.random.set_seed(seed)\n",
    "    os.environ['PYTHONHASHSEED'] = str(seed)\n",
    "    os.environ['TF_DETERMINISTIC_OPS'] = '1'\n",
    "set_seed()\n",
    "\n",
    "# Set Matplotlib defaults\n",
    "plt.rc('figure', autolayout=True)\n",
    "plt.rc('axes', labelweight='bold', labelsize='large',\n",
    "       titleweight='bold', titlesize=18, titlepad=10)\n",
    "plt.rc('image', cmap='magma')\n",
    "warnings.filterwarnings(\"ignore\") # to clean up output cells\n",
    "\n",
    "\n",
    "# Load training and validation sets\n",
    "ds_train_ = image_dataset_from_directory(\n",
    "    '../input/car-or-truck/train',\n",
    "    labels='inferred',\n",
    "    label_mode='binary',\n",
    "    image_size=[128, 128],\n",
    "    interpolation='nearest',\n",
    "    batch_size=64,\n",
    "    shuffle=True,\n",
    ")\n",
    "ds_valid_ = image_dataset_from_directory(\n",
    "    '../input/car-or-truck/valid',\n",
    "    labels='inferred',\n",
    "    label_mode='binary',\n",
    "    image_size=[128, 128],\n",
    "    interpolation='nearest',\n",
    "    batch_size=64,\n",
    "    shuffle=False,\n",
    ")\n",
    "\n",
    "# Data Pipeline\n",
    "def convert_to_float(image, label):\n",
    "    image = tf.image.convert_image_dtype(image, dtype=tf.float32)\n",
    "    return image, label\n",
    "\n",
    "AUTOTUNE = tf.data.experimental.AUTOTUNE\n",
    "ds_train = (\n",
    "    ds_train_\n",
    "    .map(convert_to_float)\n",
    "    .cache()\n",
    "    .prefetch(buffer_size=AUTOTUNE)\n",
    ")\n",
    "ds_valid = (\n",
    "    ds_valid_\n",
    "    .map(convert_to_float)\n",
    "    .cache()\n",
    "    .prefetch(buffer_size=AUTOTUNE)\n",
    ")\n"
   ]
  },
  {
   "cell_type": "markdown",
   "id": "9dc8227e",
   "metadata": {
    "papermill": {
     "duration": 0.003486,
     "end_time": "2023-10-05T13:07:59.357464",
     "exception": false,
     "start_time": "2023-10-05T13:07:59.353978",
     "status": "completed"
    },
    "tags": []
   },
   "source": [
    "The **InceptionV1** model pretrained on ImageNet is available in the [TensorFlow Hub](https://www.tensorflow.org/hub/) repository, but we'll load it from a local copy. Run this cell to load InceptionV1 for your base."
   ]
  },
  {
   "cell_type": "code",
   "execution_count": 2,
   "id": "f8624128",
   "metadata": {
    "execution": {
     "iopub.execute_input": "2023-10-05T13:07:59.366482Z",
     "iopub.status.busy": "2023-10-05T13:07:59.365560Z",
     "iopub.status.idle": "2023-10-05T13:08:02.292990Z",
     "shell.execute_reply": "2023-10-05T13:08:02.292000Z"
    },
    "lines_to_next_cell": 0,
    "papermill": {
     "duration": 2.934759,
     "end_time": "2023-10-05T13:08:02.295704",
     "exception": false,
     "start_time": "2023-10-05T13:07:59.360945",
     "status": "completed"
    },
    "tags": []
   },
   "outputs": [],
   "source": [
    "import tensorflow_hub as hub\n",
    "\n",
    "pretrained_base = tf.keras.models.load_model(\n",
    "    '../input/cv-course-models/cv-course-models/inceptionv1'\n",
    ")"
   ]
  },
  {
   "cell_type": "markdown",
   "id": "6a43e975",
   "metadata": {
    "papermill": {
     "duration": 0.003994,
     "end_time": "2023-10-05T13:08:02.305906",
     "exception": false,
     "start_time": "2023-10-05T13:08:02.301912",
     "status": "completed"
    },
    "tags": []
   },
   "source": [
    "# 1) Define Pretrained Base #\n",
    "\n",
    "Now that you have a pretrained base to do our feature extraction, decide whether this base should be trainable or not."
   ]
  },
  {
   "cell_type": "code",
   "execution_count": 3,
   "id": "f8f0aab9",
   "metadata": {
    "execution": {
     "iopub.execute_input": "2023-10-05T13:08:02.314531Z",
     "iopub.status.busy": "2023-10-05T13:08:02.314207Z",
     "iopub.status.idle": "2023-10-05T13:08:02.322710Z",
     "shell.execute_reply": "2023-10-05T13:08:02.321799Z"
    },
    "lines_to_next_cell": 0,
    "papermill": {
     "duration": 0.015082,
     "end_time": "2023-10-05T13:08:02.324593",
     "exception": false,
     "start_time": "2023-10-05T13:08:02.309511",
     "status": "completed"
    },
    "tags": []
   },
   "outputs": [
    {
     "data": {
      "application/javascript": [
       "parent.postMessage({\"jupyterEvent\": \"custom.exercise_interaction\", \"data\": {\"outcomeType\": 1, \"valueTowardsCompletion\": 0.25, \"interactionType\": 1, \"questionType\": 2, \"questionId\": \"1_Q1\", \"learnToolsVersion\": \"0.3.4\", \"failureMessage\": \"\", \"exceptionClass\": \"\", \"trace\": \"\"}}, \"*\")"
      ],
      "text/plain": [
       "<IPython.core.display.Javascript object>"
      ]
     },
     "metadata": {},
     "output_type": "display_data"
    },
    {
     "data": {
      "text/markdown": [
       "<span style=\"color:#33cc33\">Correct:</span> When doing transfer learning, it's generally not a good idea to retrain the entire base -- at least not without some care. The reason is that the random weights in the head will initially create large gradient updates, which propogate back into the base layers and destroy much of the pretraining. Using techniques known as **fine tuning** it's possible to further train the base on new data, but this requires some care to do well."
      ],
      "text/plain": [
       "Correct: When doing transfer learning, it's generally not a good idea to retrain the entire base -- at least not without some care. The reason is that the random weights in the head will initially create large gradient updates, which propogate back into the base layers and destroy much of the pretraining. Using techniques known as **fine tuning** it's possible to further train the base on new data, but this requires some care to do well."
      ]
     },
     "metadata": {},
     "output_type": "display_data"
    }
   ],
   "source": [
    "# YOUR_CODE_HERE\n",
    "pretrained_base.trainable = False\n",
    "\n",
    "# Check your answer\n",
    "q_1.check()"
   ]
  },
  {
   "cell_type": "code",
   "execution_count": 4,
   "id": "d433d8f4",
   "metadata": {
    "execution": {
     "iopub.execute_input": "2023-10-05T13:08:02.333172Z",
     "iopub.status.busy": "2023-10-05T13:08:02.332918Z",
     "iopub.status.idle": "2023-10-05T13:08:02.343128Z",
     "shell.execute_reply": "2023-10-05T13:08:02.342187Z"
    },
    "papermill": {
     "duration": 0.016649,
     "end_time": "2023-10-05T13:08:02.345067",
     "exception": false,
     "start_time": "2023-10-05T13:08:02.328418",
     "status": "completed"
    },
    "tags": []
   },
   "outputs": [
    {
     "data": {
      "application/javascript": [
       "parent.postMessage({\"jupyterEvent\": \"custom.exercise_interaction\", \"data\": {\"interactionType\": 2, \"questionType\": 2, \"questionId\": \"1_Q1\", \"learnToolsVersion\": \"0.3.4\", \"valueTowardsCompletion\": 0.0, \"failureMessage\": \"\", \"exceptionClass\": \"\", \"trace\": \"\", \"outcomeType\": 4}}, \"*\")"
      ],
      "text/plain": [
       "<IPython.core.display.Javascript object>"
      ]
     },
     "metadata": {},
     "output_type": "display_data"
    },
    {
     "data": {
      "text/markdown": [
       "<span style=\"color:#3366cc\">Hint:</span> `True` or `False`?"
      ],
      "text/plain": [
       "Hint: `True` or `False`?"
      ]
     },
     "metadata": {},
     "output_type": "display_data"
    },
    {
     "data": {
      "application/javascript": [
       "parent.postMessage({\"jupyterEvent\": \"custom.exercise_interaction\", \"data\": {\"interactionType\": 3, \"questionType\": 2, \"questionId\": \"1_Q1\", \"learnToolsVersion\": \"0.3.4\", \"valueTowardsCompletion\": 0.0, \"failureMessage\": \"\", \"exceptionClass\": \"\", \"trace\": \"\", \"outcomeType\": 4}}, \"*\")"
      ],
      "text/plain": [
       "<IPython.core.display.Javascript object>"
      ]
     },
     "metadata": {},
     "output_type": "display_data"
    },
    {
     "data": {
      "text/markdown": [
       "<span style=\"color:#33cc99\">Solution:</span> \n",
       "```python\n",
       "pretrained_base.trainable = False\n",
       "```"
      ],
      "text/plain": [
       "Solution: \n",
       "```python\n",
       "pretrained_base.trainable = False\n",
       "```"
      ]
     },
     "metadata": {},
     "output_type": "display_data"
    }
   ],
   "source": [
    "# Lines below will give you a hint or solution code\n",
    "q_1.hint()\n",
    "q_1.solution()"
   ]
  },
  {
   "cell_type": "markdown",
   "id": "2d79a5a8",
   "metadata": {
    "papermill": {
     "duration": 0.00416,
     "end_time": "2023-10-05T13:08:02.353444",
     "exception": false,
     "start_time": "2023-10-05T13:08:02.349284",
     "status": "completed"
    },
    "tags": []
   },
   "source": [
    "# 2) Attach Head #\n",
    "\n",
    "Now that the base is defined to do the feature extraction, create a head of `Dense` layers to perform the classification, following this diagram:\n",
    "\n",
    "<figure>\n",
    "<img src=\"https://storage.googleapis.com/kaggle-media/learn/images/i5VU7Ry.png\" alt=\"Diagram of the dense head.\">\n",
    "</figure>\n"
   ]
  },
  {
   "cell_type": "code",
   "execution_count": 5,
   "id": "7fe039bc",
   "metadata": {
    "execution": {
     "iopub.execute_input": "2023-10-05T13:08:02.362983Z",
     "iopub.status.busy": "2023-10-05T13:08:02.362721Z",
     "iopub.status.idle": "2023-10-05T13:08:02.379814Z",
     "shell.execute_reply": "2023-10-05T13:08:02.378879Z"
    },
    "lines_to_next_cell": 0,
    "papermill": {
     "duration": 0.023926,
     "end_time": "2023-10-05T13:08:02.381496",
     "exception": false,
     "start_time": "2023-10-05T13:08:02.357570",
     "status": "completed"
    },
    "tags": []
   },
   "outputs": [
    {
     "data": {
      "application/javascript": [
       "parent.postMessage({\"jupyterEvent\": \"custom.exercise_interaction\", \"data\": {\"outcomeType\": 1, \"valueTowardsCompletion\": 0.25, \"interactionType\": 1, \"questionType\": 2, \"questionId\": \"2_Q2\", \"learnToolsVersion\": \"0.3.4\", \"failureMessage\": \"\", \"exceptionClass\": \"\", \"trace\": \"\"}}, \"*\")"
      ],
      "text/plain": [
       "<IPython.core.display.Javascript object>"
      ]
     },
     "metadata": {},
     "output_type": "display_data"
    },
    {
     "data": {
      "text/markdown": [
       "<span style=\"color:#33cc33\">Correct</span>"
      ],
      "text/plain": [
       "Correct"
      ]
     },
     "metadata": {},
     "output_type": "display_data"
    }
   ],
   "source": [
    "from tensorflow import keras\n",
    "from tensorflow.keras import layers\n",
    "\n",
    "model = keras.Sequential([\n",
    "    pretrained_base,\n",
    "    layers.Flatten(),\n",
    "    # YOUR CODE HERE. Attach a head of dense layers.\n",
    "    layers.Dense(units=6,activation='relu'),\n",
    "    layers.Dense(units=1,activation='sigmoid'),\n",
    "])\n",
    "\n",
    "# Check your answer\n",
    "q_2.check()"
   ]
  },
  {
   "cell_type": "code",
   "execution_count": 6,
   "id": "cd91ec13",
   "metadata": {
    "execution": {
     "iopub.execute_input": "2023-10-05T13:08:02.391327Z",
     "iopub.status.busy": "2023-10-05T13:08:02.390841Z",
     "iopub.status.idle": "2023-10-05T13:08:02.401163Z",
     "shell.execute_reply": "2023-10-05T13:08:02.400267Z"
    },
    "papermill": {
     "duration": 0.017169,
     "end_time": "2023-10-05T13:08:02.402966",
     "exception": false,
     "start_time": "2023-10-05T13:08:02.385797",
     "status": "completed"
    },
    "tags": []
   },
   "outputs": [
    {
     "data": {
      "application/javascript": [
       "parent.postMessage({\"jupyterEvent\": \"custom.exercise_interaction\", \"data\": {\"interactionType\": 2, \"questionType\": 2, \"questionId\": \"2_Q2\", \"learnToolsVersion\": \"0.3.4\", \"valueTowardsCompletion\": 0.0, \"failureMessage\": \"\", \"exceptionClass\": \"\", \"trace\": \"\", \"outcomeType\": 4}}, \"*\")"
      ],
      "text/plain": [
       "<IPython.core.display.Javascript object>"
      ]
     },
     "metadata": {},
     "output_type": "display_data"
    },
    {
     "data": {
      "text/markdown": [
       "<span style=\"color:#3366cc\">Hint:</span> You need to add two new `Dense` layers. The first should have 6 units and `'relu'` activation. The second should have 1 unit and `'sigmoid'` activation."
      ],
      "text/plain": [
       "Hint: You need to add two new `Dense` layers. The first should have 6 units and `'relu'` activation. The second should have 1 unit and `'sigmoid'` activation."
      ]
     },
     "metadata": {},
     "output_type": "display_data"
    },
    {
     "data": {
      "application/javascript": [
       "parent.postMessage({\"jupyterEvent\": \"custom.exercise_interaction\", \"data\": {\"interactionType\": 3, \"questionType\": 2, \"questionId\": \"2_Q2\", \"learnToolsVersion\": \"0.3.4\", \"valueTowardsCompletion\": 0.0, \"failureMessage\": \"\", \"exceptionClass\": \"\", \"trace\": \"\", \"outcomeType\": 4}}, \"*\")"
      ],
      "text/plain": [
       "<IPython.core.display.Javascript object>"
      ]
     },
     "metadata": {},
     "output_type": "display_data"
    },
    {
     "data": {
      "text/markdown": [
       "<span style=\"color:#33cc99\">Solution:</span> \n",
       "```python\n",
       " \n",
       "from tensorflow import keras\n",
       "from tensorflow.keras import layers\n",
       "\n",
       "model = keras.Sequential([\n",
       "    pretrained_base,\n",
       "    layers.Flatten(),\n",
       "    layers.Dense(6, activation='relu'),\n",
       "    layers.Dense(1, activation='sigmoid'),\n",
       "])\n",
       "\n",
       "```"
      ],
      "text/plain": [
       "Solution: \n",
       "```python\n",
       " \n",
       "from tensorflow import keras\n",
       "from tensorflow.keras import layers\n",
       "\n",
       "model = keras.Sequential([\n",
       "    pretrained_base,\n",
       "    layers.Flatten(),\n",
       "    layers.Dense(6, activation='relu'),\n",
       "    layers.Dense(1, activation='sigmoid'),\n",
       "])\n",
       "\n",
       "```"
      ]
     },
     "metadata": {},
     "output_type": "display_data"
    }
   ],
   "source": [
    "# Lines below will give you a hint or solution code\n",
    "q_2.hint()\n",
    "q_2.solution()"
   ]
  },
  {
   "cell_type": "markdown",
   "id": "b0431a30",
   "metadata": {
    "papermill": {
     "duration": 0.004419,
     "end_time": "2023-10-05T13:08:02.411988",
     "exception": false,
     "start_time": "2023-10-05T13:08:02.407569",
     "status": "completed"
    },
    "tags": []
   },
   "source": [
    "# 3) Train #\n",
    "\n",
    "Before training a model in Keras, you need to specify an *optimizer* to perform the gradient descent, a *loss function* to be minimized, and (optionally) any *performance metrics*. The optimization algorithm we'll use for this course is called [\"Adam\"](https://keras.io/api/optimizers/adam/), which generally performs well regardless of what kind of problem you're trying to solve.\n",
    "\n",
    "The loss and the metrics, however, need to match the kind of problem you're trying to solve. Our problem is a **binary classification** problem: `Car` coded as 0, and `Truck` coded as 1. Choose an appropriate loss and an appropriate accuracy metric for binary classification."
   ]
  },
  {
   "cell_type": "code",
   "execution_count": 7,
   "id": "d5dcb2e8",
   "metadata": {
    "execution": {
     "iopub.execute_input": "2023-10-05T13:08:02.422391Z",
     "iopub.status.busy": "2023-10-05T13:08:02.421859Z",
     "iopub.status.idle": "2023-10-05T13:08:02.447605Z",
     "shell.execute_reply": "2023-10-05T13:08:02.446534Z"
    },
    "lines_to_next_cell": 0,
    "papermill": {
     "duration": 0.032782,
     "end_time": "2023-10-05T13:08:02.449330",
     "exception": false,
     "start_time": "2023-10-05T13:08:02.416548",
     "status": "completed"
    },
    "tags": []
   },
   "outputs": [
    {
     "data": {
      "application/javascript": [
       "parent.postMessage({\"jupyterEvent\": \"custom.exercise_interaction\", \"data\": {\"outcomeType\": 1, \"valueTowardsCompletion\": 0.25, \"interactionType\": 1, \"questionType\": 2, \"questionId\": \"3_Q3\", \"learnToolsVersion\": \"0.3.4\", \"failureMessage\": \"\", \"exceptionClass\": \"\", \"trace\": \"\"}}, \"*\")"
      ],
      "text/plain": [
       "<IPython.core.display.Javascript object>"
      ]
     },
     "metadata": {},
     "output_type": "display_data"
    },
    {
     "data": {
      "text/markdown": [
       "<span style=\"color:#33cc33\">Correct</span>"
      ],
      "text/plain": [
       "Correct"
      ]
     },
     "metadata": {},
     "output_type": "display_data"
    }
   ],
   "source": [
    "# YOUR CODE HERE: what loss function should you use for a binary\n",
    "# classification problem? (Your answer for each should be a string.)\n",
    "optimizer = tf.keras.optimizers.Adam(epsilon=0.01)\n",
    "model.compile(\n",
    "    optimizer=optimizer,\n",
    "    loss = 'binary_crossentropy',\n",
    "    metrics=['binary_accuracy'],\n",
    ")\n",
    "\n",
    "# Check your answer\n",
    "q_3.check()"
   ]
  },
  {
   "cell_type": "code",
   "execution_count": 8,
   "id": "641c3bde",
   "metadata": {
    "execution": {
     "iopub.execute_input": "2023-10-05T13:08:02.460582Z",
     "iopub.status.busy": "2023-10-05T13:08:02.459791Z",
     "iopub.status.idle": "2023-10-05T13:08:02.470681Z",
     "shell.execute_reply": "2023-10-05T13:08:02.469801Z"
    },
    "lines_to_next_cell": 0,
    "papermill": {
     "duration": 0.018143,
     "end_time": "2023-10-05T13:08:02.472315",
     "exception": false,
     "start_time": "2023-10-05T13:08:02.454172",
     "status": "completed"
    },
    "tags": []
   },
   "outputs": [
    {
     "data": {
      "application/javascript": [
       "parent.postMessage({\"jupyterEvent\": \"custom.exercise_interaction\", \"data\": {\"interactionType\": 2, \"questionType\": 2, \"questionId\": \"3_Q3\", \"learnToolsVersion\": \"0.3.4\", \"valueTowardsCompletion\": 0.0, \"failureMessage\": \"\", \"exceptionClass\": \"\", \"trace\": \"\", \"outcomeType\": 4}}, \"*\")"
      ],
      "text/plain": [
       "<IPython.core.display.Javascript object>"
      ]
     },
     "metadata": {},
     "output_type": "display_data"
    },
    {
     "data": {
      "text/markdown": [
       "<span style=\"color:#3366cc\">Hint:</span> This is a *binary* classification problem."
      ],
      "text/plain": [
       "Hint: This is a *binary* classification problem."
      ]
     },
     "metadata": {},
     "output_type": "display_data"
    },
    {
     "data": {
      "application/javascript": [
       "parent.postMessage({\"jupyterEvent\": \"custom.exercise_interaction\", \"data\": {\"interactionType\": 3, \"questionType\": 2, \"questionId\": \"3_Q3\", \"learnToolsVersion\": \"0.3.4\", \"valueTowardsCompletion\": 0.0, \"failureMessage\": \"\", \"exceptionClass\": \"\", \"trace\": \"\", \"outcomeType\": 4}}, \"*\")"
      ],
      "text/plain": [
       "<IPython.core.display.Javascript object>"
      ]
     },
     "metadata": {},
     "output_type": "display_data"
    },
    {
     "data": {
      "text/markdown": [
       "<span style=\"color:#33cc99\">Solution:</span> \n",
       "```python\n",
       "\n",
       "model.compile(\n",
       "    optimizer='adam',\n",
       "    loss='binary_crossentropy',\n",
       "    metrics=['binary_accuracy'],\n",
       ")\n",
       "\n",
       "```"
      ],
      "text/plain": [
       "Solution: \n",
       "```python\n",
       "\n",
       "model.compile(\n",
       "    optimizer='adam',\n",
       "    loss='binary_crossentropy',\n",
       "    metrics=['binary_accuracy'],\n",
       ")\n",
       "\n",
       "```"
      ]
     },
     "metadata": {},
     "output_type": "display_data"
    }
   ],
   "source": [
    "# Lines below will give you a hint or solution code\n",
    "q_3.hint()\n",
    "q_3.solution()"
   ]
  },
  {
   "cell_type": "code",
   "execution_count": 9,
   "id": "eefcfd70",
   "metadata": {
    "execution": {
     "iopub.execute_input": "2023-10-05T13:08:02.483591Z",
     "iopub.status.busy": "2023-10-05T13:08:02.483203Z",
     "iopub.status.idle": "2023-10-05T13:10:13.741515Z",
     "shell.execute_reply": "2023-10-05T13:10:13.740545Z"
    },
    "papermill": {
     "duration": 131.26626,
     "end_time": "2023-10-05T13:10:13.743777",
     "exception": false,
     "start_time": "2023-10-05T13:08:02.477517",
     "status": "completed"
    },
    "tags": []
   },
   "outputs": [
    {
     "name": "stdout",
     "output_type": "stream",
     "text": [
      "Epoch 1/30\n",
      "80/80 [==============================] - 34s 268ms/step - loss: 0.6383 - binary_accuracy: 0.6175 - val_loss: 0.5849 - val_binary_accuracy: 0.6935\n",
      "Epoch 2/30\n",
      "80/80 [==============================] - 3s 40ms/step - loss: 0.5399 - binary_accuracy: 0.7610 - val_loss: 0.4723 - val_binary_accuracy: 0.8042\n",
      "Epoch 3/30\n",
      "80/80 [==============================] - 3s 40ms/step - loss: 0.4417 - binary_accuracy: 0.8091 - val_loss: 0.4125 - val_binary_accuracy: 0.8244\n",
      "Epoch 4/30\n",
      "80/80 [==============================] - 3s 40ms/step - loss: 0.4029 - binary_accuracy: 0.8212 - val_loss: 0.3926 - val_binary_accuracy: 0.8317\n",
      "Epoch 5/30\n",
      "80/80 [==============================] - 3s 40ms/step - loss: 0.3846 - binary_accuracy: 0.8321 - val_loss: 0.3832 - val_binary_accuracy: 0.8363\n",
      "Epoch 6/30\n",
      "80/80 [==============================] - 3s 42ms/step - loss: 0.3714 - binary_accuracy: 0.8382 - val_loss: 0.3756 - val_binary_accuracy: 0.8386\n",
      "Epoch 7/30\n",
      "80/80 [==============================] - 3s 40ms/step - loss: 0.3608 - binary_accuracy: 0.8419 - val_loss: 0.3719 - val_binary_accuracy: 0.8406\n",
      "Epoch 8/30\n",
      "80/80 [==============================] - 3s 41ms/step - loss: 0.3514 - binary_accuracy: 0.8472 - val_loss: 0.3668 - val_binary_accuracy: 0.8424\n",
      "Epoch 9/30\n",
      "80/80 [==============================] - 3s 42ms/step - loss: 0.3434 - binary_accuracy: 0.8515 - val_loss: 0.3622 - val_binary_accuracy: 0.8448\n",
      "Epoch 10/30\n",
      "80/80 [==============================] - 3s 40ms/step - loss: 0.3361 - binary_accuracy: 0.8550 - val_loss: 0.3602 - val_binary_accuracy: 0.8454\n",
      "Epoch 11/30\n",
      "80/80 [==============================] - 3s 40ms/step - loss: 0.3282 - binary_accuracy: 0.8587 - val_loss: 0.3576 - val_binary_accuracy: 0.8476\n",
      "Epoch 12/30\n",
      "80/80 [==============================] - 3s 40ms/step - loss: 0.3220 - binary_accuracy: 0.8624 - val_loss: 0.3558 - val_binary_accuracy: 0.8480\n",
      "Epoch 13/30\n",
      "80/80 [==============================] - 3s 40ms/step - loss: 0.3152 - binary_accuracy: 0.8657 - val_loss: 0.3541 - val_binary_accuracy: 0.8489\n",
      "Epoch 14/30\n",
      "80/80 [==============================] - 3s 40ms/step - loss: 0.3091 - binary_accuracy: 0.8675 - val_loss: 0.3520 - val_binary_accuracy: 0.8525\n",
      "Epoch 15/30\n",
      "80/80 [==============================] - 3s 42ms/step - loss: 0.3040 - binary_accuracy: 0.8720 - val_loss: 0.3514 - val_binary_accuracy: 0.8537\n",
      "Epoch 16/30\n",
      "80/80 [==============================] - 3s 40ms/step - loss: 0.2999 - binary_accuracy: 0.8741 - val_loss: 0.3506 - val_binary_accuracy: 0.8545\n",
      "Epoch 17/30\n",
      "80/80 [==============================] - 3s 40ms/step - loss: 0.2951 - binary_accuracy: 0.8777 - val_loss: 0.3487 - val_binary_accuracy: 0.8563\n",
      "Epoch 18/30\n",
      "80/80 [==============================] - 3s 40ms/step - loss: 0.2909 - binary_accuracy: 0.8818 - val_loss: 0.3474 - val_binary_accuracy: 0.8569\n",
      "Epoch 19/30\n",
      "80/80 [==============================] - 3s 40ms/step - loss: 0.2875 - binary_accuracy: 0.8837 - val_loss: 0.3481 - val_binary_accuracy: 0.8561\n",
      "Epoch 20/30\n",
      "80/80 [==============================] - 3s 40ms/step - loss: 0.2836 - binary_accuracy: 0.8853 - val_loss: 0.3466 - val_binary_accuracy: 0.8561\n",
      "Epoch 21/30\n",
      "80/80 [==============================] - 3s 40ms/step - loss: 0.2804 - binary_accuracy: 0.8888 - val_loss: 0.3461 - val_binary_accuracy: 0.8563\n",
      "Epoch 22/30\n",
      "80/80 [==============================] - 3s 40ms/step - loss: 0.2760 - binary_accuracy: 0.8911 - val_loss: 0.3458 - val_binary_accuracy: 0.8555\n",
      "Epoch 23/30\n",
      "80/80 [==============================] - 3s 40ms/step - loss: 0.2734 - binary_accuracy: 0.8911 - val_loss: 0.3451 - val_binary_accuracy: 0.8561\n",
      "Epoch 24/30\n",
      "80/80 [==============================] - 3s 41ms/step - loss: 0.2700 - binary_accuracy: 0.8927 - val_loss: 0.3445 - val_binary_accuracy: 0.8553\n",
      "Epoch 25/30\n",
      "80/80 [==============================] - 4s 44ms/step - loss: 0.2667 - binary_accuracy: 0.8945 - val_loss: 0.3437 - val_binary_accuracy: 0.8559\n",
      "Epoch 26/30\n",
      "80/80 [==============================] - 3s 41ms/step - loss: 0.2643 - binary_accuracy: 0.8954 - val_loss: 0.3444 - val_binary_accuracy: 0.8563\n",
      "Epoch 27/30\n",
      "80/80 [==============================] - 3s 41ms/step - loss: 0.2613 - binary_accuracy: 0.8960 - val_loss: 0.3446 - val_binary_accuracy: 0.8578\n",
      "Epoch 28/30\n",
      "80/80 [==============================] - 3s 40ms/step - loss: 0.2592 - binary_accuracy: 0.8976 - val_loss: 0.3443 - val_binary_accuracy: 0.8582\n",
      "Epoch 29/30\n",
      "80/80 [==============================] - 3s 40ms/step - loss: 0.2564 - binary_accuracy: 0.8986 - val_loss: 0.3446 - val_binary_accuracy: 0.8580\n",
      "Epoch 30/30\n",
      "80/80 [==============================] - 3s 40ms/step - loss: 0.2545 - binary_accuracy: 0.8992 - val_loss: 0.3413 - val_binary_accuracy: 0.8586\n"
     ]
    }
   ],
   "source": [
    "history = model.fit(\n",
    "    ds_train,\n",
    "    validation_data=ds_valid,\n",
    "    epochs=30,\n",
    ")"
   ]
  },
  {
   "cell_type": "markdown",
   "id": "42aa310b",
   "metadata": {
    "papermill": {
     "duration": 0.042137,
     "end_time": "2023-10-05T13:10:13.872347",
     "exception": false,
     "start_time": "2023-10-05T13:10:13.830210",
     "status": "completed"
    },
    "tags": []
   },
   "source": [
    "Run the cell below to plot the loss and metric curves for this training run."
   ]
  },
  {
   "cell_type": "code",
   "execution_count": 10,
   "id": "d1ce2462",
   "metadata": {
    "execution": {
     "iopub.execute_input": "2023-10-05T13:10:13.959823Z",
     "iopub.status.busy": "2023-10-05T13:10:13.959182Z",
     "iopub.status.idle": "2023-10-05T13:10:14.838630Z",
     "shell.execute_reply": "2023-10-05T13:10:14.837427Z"
    },
    "papermill": {
     "duration": 0.92618,
     "end_time": "2023-10-05T13:10:14.841226",
     "exception": false,
     "start_time": "2023-10-05T13:10:13.915046",
     "status": "completed"
    },
    "tags": []
   },
   "outputs": [
    {
     "data": {
      "image/png": "[encoded data removed]",
      "text/plain": [
       "<Figure size 640x480 with 1 Axes>"
      ]
     },
     "metadata": {},
     "output_type": "display_data"
    },
    {
     "data": {
      "image/png": "[encoded data removed]",
      "text/plain": [
       "<Figure size 640x480 with 1 Axes>"
      ]
     },
     "metadata": {},
     "output_type": "display_data"
    }
   ],
   "source": [
    "import pandas as pd\n",
    "history_frame = pd.DataFrame(history.history)\n",
    "history_frame.loc[:, ['loss', 'val_loss']].plot()\n",
    "history_frame.loc[:, ['binary_accuracy', 'val_binary_accuracy']].plot();"
   ]
  },
  {
   "cell_type": "markdown",
   "id": "70d51dc8",
   "metadata": {
    "papermill": {
     "duration": 0.043899,
     "end_time": "2023-10-05T13:10:14.951675",
     "exception": false,
     "start_time": "2023-10-05T13:10:14.907776",
     "status": "completed"
    },
    "tags": []
   },
   "source": [
    "# 4) Examine Loss and Accuracy #\n",
    "\n",
    "Do you notice a difference between these learning curves and the curves for VGG16 from the tutorial? What does this difference tell you about what this model (InceptionV2) learned compared to VGG16? Are there ways in which one is better than the other? Worse?\n",
    "\n",
    "After you've thought about it, run the cell below to see the answer."
   ]
  },
  {
   "cell_type": "code",
   "execution_count": 11,
   "id": "21185676",
   "metadata": {
    "execution": {
     "iopub.execute_input": "2023-10-05T13:10:15.039089Z",
     "iopub.status.busy": "2023-10-05T13:10:15.038764Z",
     "iopub.status.idle": "2023-10-05T13:10:15.046108Z",
     "shell.execute_reply": "2023-10-05T13:10:15.045243Z"
    },
    "papermill": {
     "duration": 0.053358,
     "end_time": "2023-10-05T13:10:15.047798",
     "exception": false,
     "start_time": "2023-10-05T13:10:14.994440",
     "status": "completed"
    },
    "tags": []
   },
   "outputs": [
    {
     "data": {
      "application/javascript": [
       "parent.postMessage({\"jupyterEvent\": \"custom.exercise_interaction\", \"data\": {\"outcomeType\": 1, \"valueTowardsCompletion\": 0.25, \"interactionType\": 1, \"questionType\": 4, \"questionId\": \"4_Q4\", \"learnToolsVersion\": \"0.3.4\", \"failureMessage\": \"\", \"exceptionClass\": \"\", \"trace\": \"\"}}, \"*\")"
      ],
      "text/plain": [
       "<IPython.core.display.Javascript object>"
      ]
     },
     "metadata": {},
     "output_type": "display_data"
    },
    {
     "data": {
      "text/markdown": [
       "<span style=\"color:#33cc33\">Correct:</span> \n",
       "\n",
       "That the training loss and validation loss stay fairly close is evidence that the model isn't just memorizing the training data, but rather learning general properties of the two classes. But, because this model converges at a loss greater than the VGG16 model, it's likely that it is underfitting some, and could benefit from some extra capacity.\n"
      ],
      "text/plain": [
       "Correct: \n",
       "\n",
       "That the training loss and validation loss stay fairly close is evidence that the model isn't just memorizing the training data, but rather learning general properties of the two classes. But, because this model converges at a loss greater than the VGG16 model, it's likely that it is underfitting some, and could benefit from some extra capacity."
      ]
     },
     "metadata": {},
     "output_type": "display_data"
    }
   ],
   "source": [
    "# View the solution (Run this code cell to receive credit!)\n",
    "q_4.check()"
   ]
  },
  {
   "cell_type": "markdown",
   "id": "c5dc1179",
   "metadata": {
    "papermill": {
     "duration": 0.044586,
     "end_time": "2023-10-05T13:10:15.137122",
     "exception": false,
     "start_time": "2023-10-05T13:10:15.092536",
     "status": "completed"
    },
    "tags": []
   },
   "source": [
    "# Conclusion #\n",
    "\n",
    "In this first lesson, you learned the basics of **convolutional image classifiers**, that they consist of a **base** for extracting features from images, and a **head** which uses the features to decide the image's class. You also saw how to build a classifier with **transfer learning** on pretrained base. "
   ]
  },
  {
   "cell_type": "markdown",
   "id": "eff6da73",
   "metadata": {
    "papermill": {
     "duration": 0.0431,
     "end_time": "2023-10-05T13:10:15.223251",
     "exception": false,
     "start_time": "2023-10-05T13:10:15.180151",
     "status": "completed"
    },
    "tags": []
   },
   "source": [
    "# Keep Going #\n",
    "\n",
    "Move on to [**Lesson 2**](https://www.kaggle.com/ryanholbrook/convolution-and-relu) for a detailed look at how the base does this feature extraction. (It's really cool!)"
   ]
  },
  {
   "cell_type": "markdown",
   "id": "eea1ffba",
   "metadata": {
    "papermill": {
     "duration": 0.043181,
     "end_time": "2023-10-05T13:10:15.310991",
     "exception": false,
     "start_time": "2023-10-05T13:10:15.267810",
     "status": "completed"
    },
    "tags": []
   },
   "source": [
    "---\n",
    "\n",
    "\n",
    "\n",
    "\n",
    "*Have questions or comments? Visit the [course discussion forum](https://www.kaggle.com/learn/computer-vision/discussion) to chat with other learners.*"
   ]
  }
 ],
 "metadata": {
  "kernelspec": {
   "display_name": "Python 3",
   "language": "python",
   "name": "python3"
  },
  "language_info": {
   "codemirror_mode": {
    "name": "ipython",
    "version": 3
   },
   "file_extension": ".py",
   "mimetype": "text/x-python",
   "name": "python",
   "nbconvert_exporter": "python",
   "pygments_lexer": "ipython3",
   "version": "3.10.12"
  },
  "papermill": {
   "default_parameters": {},
   "duration": 162.471371,
   "end_time": "2023-10-05T13:10:19.094849",
   "environment_variables": {},
   "exception": null,
   "input_path": "__notebook__.ipynb",
   "output_path": "__notebook__.ipynb",
   "parameters": {},
   "start_time": "2023-10-05T13:07:36.623478",
   "version": "2.4.0"
  }
 },
 "nbformat": 4,
 "nbformat_minor": 5
}
